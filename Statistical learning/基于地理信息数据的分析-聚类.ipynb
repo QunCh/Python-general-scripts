{
 "cells": [
  {
   "cell_type": "code",
   "execution_count": 23,
   "metadata": {},
   "outputs": [],
   "source": [
    "import json\n",
    "import numpy as np\n",
    "import pandas as pd\n",
    "import random"
   ]
  },
  {
   "cell_type": "markdown",
   "metadata": {},
   "source": [
    "# 读取数据"
   ]
  },
  {
   "cell_type": "code",
   "execution_count": 24,
   "metadata": {},
   "outputs": [
    {
     "data": {
      "text/html": [
       "<div>\n",
       "<style scoped>\n",
       "    .dataframe tbody tr th:only-of-type {\n",
       "        vertical-align: middle;\n",
       "    }\n",
       "\n",
       "    .dataframe tbody tr th {\n",
       "        vertical-align: top;\n",
       "    }\n",
       "\n",
       "    .dataframe thead th {\n",
       "        text-align: right;\n",
       "    }\n",
       "</style>\n",
       "<table border=\"1\" class=\"dataframe\">\n",
       "  <thead>\n",
       "    <tr style=\"text-align: right;\">\n",
       "      <th></th>\n",
       "      <th>ID</th>\n",
       "      <th>交通设施服务</th>\n",
       "      <th>住宿服务</th>\n",
       "      <th>公司企业</th>\n",
       "      <th>医疗保健服务</th>\n",
       "      <th>商务住宅</th>\n",
       "      <th>生活服务</th>\n",
       "      <th>科教文化服务</th>\n",
       "      <th>类型</th>\n",
       "      <th>购物服务</th>\n",
       "      <th>风景名胜</th>\n",
       "      <th>餐饮服务</th>\n",
       "    </tr>\n",
       "  </thead>\n",
       "  <tbody>\n",
       "    <tr>\n",
       "      <th>0</th>\n",
       "      <td>1</td>\n",
       "      <td>85</td>\n",
       "      <td>94</td>\n",
       "      <td>1147</td>\n",
       "      <td>12</td>\n",
       "      <td>88</td>\n",
       "      <td>426</td>\n",
       "      <td>650</td>\n",
       "      <td>学校</td>\n",
       "      <td>472</td>\n",
       "      <td>0</td>\n",
       "      <td>0</td>\n",
       "    </tr>\n",
       "    <tr>\n",
       "      <th>1</th>\n",
       "      <td>2</td>\n",
       "      <td>0</td>\n",
       "      <td>45</td>\n",
       "      <td>1968</td>\n",
       "      <td>74</td>\n",
       "      <td>0</td>\n",
       "      <td>0</td>\n",
       "      <td>330</td>\n",
       "      <td>学校</td>\n",
       "      <td>147</td>\n",
       "      <td>5</td>\n",
       "      <td>43</td>\n",
       "    </tr>\n",
       "    <tr>\n",
       "      <th>2</th>\n",
       "      <td>3</td>\n",
       "      <td>165</td>\n",
       "      <td>14</td>\n",
       "      <td>130</td>\n",
       "      <td>23</td>\n",
       "      <td>53</td>\n",
       "      <td>131</td>\n",
       "      <td>511</td>\n",
       "      <td>学校</td>\n",
       "      <td>103</td>\n",
       "      <td>39</td>\n",
       "      <td>86</td>\n",
       "    </tr>\n",
       "    <tr>\n",
       "      <th>3</th>\n",
       "      <td>4</td>\n",
       "      <td>66</td>\n",
       "      <td>25</td>\n",
       "      <td>534</td>\n",
       "      <td>0</td>\n",
       "      <td>95</td>\n",
       "      <td>205</td>\n",
       "      <td>461</td>\n",
       "      <td>学校</td>\n",
       "      <td>437</td>\n",
       "      <td>14</td>\n",
       "      <td>128</td>\n",
       "    </tr>\n",
       "    <tr>\n",
       "      <th>4</th>\n",
       "      <td>5</td>\n",
       "      <td>255</td>\n",
       "      <td>88</td>\n",
       "      <td>0</td>\n",
       "      <td>43</td>\n",
       "      <td>111</td>\n",
       "      <td>281</td>\n",
       "      <td>437</td>\n",
       "      <td>学校</td>\n",
       "      <td>1679</td>\n",
       "      <td>17</td>\n",
       "      <td>184</td>\n",
       "    </tr>\n",
       "  </tbody>\n",
       "</table>\n",
       "</div>"
      ],
      "text/plain": [
       "   ID  交通设施服务  住宿服务  公司企业  医疗保健服务  商务住宅  生活服务  科教文化服务  类型  购物服务  风景名胜  餐饮服务\n",
       "0   1      85    94  1147      12    88   426     650  学校   472     0     0\n",
       "1   2       0    45  1968      74     0     0     330  学校   147     5    43\n",
       "2   3     165    14   130      23    53   131     511  学校   103    39    86\n",
       "3   4      66    25   534       0    95   205     461  学校   437    14   128\n",
       "4   5     255    88     0      43   111   281     437  学校  1679    17   184"
      ]
     },
     "execution_count": 24,
     "metadata": {},
     "output_type": "execute_result"
    }
   ],
   "source": [
    "# 读取数据\n",
    "loc_df = pd.read_csv(\"Location_Info - 2.csv\", encoding='utf_8')\n",
    "loc_df.head()"
   ]
  },
  {
   "cell_type": "code",
   "execution_count": 25,
   "metadata": {},
   "outputs": [],
   "source": [
    "# 只选取两个特征：商务住宅&餐饮服务\n",
    "sub_loc_df = loc_df[[\"商务住宅\", \"餐饮服务\"]]\n"
   ]
  },
  {
   "cell_type": "code",
   "execution_count": 26,
   "metadata": {},
   "outputs": [
    {
     "data": {
      "text/plain": [
       "<AxesSubplot:xlabel='餐饮服务', ylabel='商务住宅'>"
      ]
     },
     "execution_count": 26,
     "metadata": {},
     "output_type": "execute_result"
    },
    {
     "name": "stderr",
     "output_type": "stream",
     "text": [
      "/Users/zhaoluo/opt/anaconda3/lib/python3.8/site-packages/matplotlib/backends/backend_agg.py:238: RuntimeWarning: Glyph 39184 missing from current font.\n",
      "  font.set_text(s, 0.0, flags=flags)\n",
      "/Users/zhaoluo/opt/anaconda3/lib/python3.8/site-packages/matplotlib/backends/backend_agg.py:238: RuntimeWarning: Glyph 39278 missing from current font.\n",
      "  font.set_text(s, 0.0, flags=flags)\n",
      "/Users/zhaoluo/opt/anaconda3/lib/python3.8/site-packages/matplotlib/backends/backend_agg.py:238: RuntimeWarning: Glyph 26381 missing from current font.\n",
      "  font.set_text(s, 0.0, flags=flags)\n",
      "/Users/zhaoluo/opt/anaconda3/lib/python3.8/site-packages/matplotlib/backends/backend_agg.py:238: RuntimeWarning: Glyph 21153 missing from current font.\n",
      "  font.set_text(s, 0.0, flags=flags)\n",
      "/Users/zhaoluo/opt/anaconda3/lib/python3.8/site-packages/matplotlib/backends/backend_agg.py:238: RuntimeWarning: Glyph 21830 missing from current font.\n",
      "  font.set_text(s, 0.0, flags=flags)\n",
      "/Users/zhaoluo/opt/anaconda3/lib/python3.8/site-packages/matplotlib/backends/backend_agg.py:238: RuntimeWarning: Glyph 20303 missing from current font.\n",
      "  font.set_text(s, 0.0, flags=flags)\n",
      "/Users/zhaoluo/opt/anaconda3/lib/python3.8/site-packages/matplotlib/backends/backend_agg.py:238: RuntimeWarning: Glyph 23429 missing from current font.\n",
      "  font.set_text(s, 0.0, flags=flags)\n",
      "/Users/zhaoluo/opt/anaconda3/lib/python3.8/site-packages/matplotlib/backends/backend_agg.py:201: RuntimeWarning: Glyph 39184 missing from current font.\n",
      "  font.set_text(s, 0, flags=flags)\n",
      "/Users/zhaoluo/opt/anaconda3/lib/python3.8/site-packages/matplotlib/backends/backend_agg.py:201: RuntimeWarning: Glyph 39278 missing from current font.\n",
      "  font.set_text(s, 0, flags=flags)\n",
      "/Users/zhaoluo/opt/anaconda3/lib/python3.8/site-packages/matplotlib/backends/backend_agg.py:201: RuntimeWarning: Glyph 26381 missing from current font.\n",
      "  font.set_text(s, 0, flags=flags)\n",
      "/Users/zhaoluo/opt/anaconda3/lib/python3.8/site-packages/matplotlib/backends/backend_agg.py:201: RuntimeWarning: Glyph 21153 missing from current font.\n",
      "  font.set_text(s, 0, flags=flags)\n",
      "/Users/zhaoluo/opt/anaconda3/lib/python3.8/site-packages/matplotlib/backends/backend_agg.py:201: RuntimeWarning: Glyph 21830 missing from current font.\n",
      "  font.set_text(s, 0, flags=flags)\n",
      "/Users/zhaoluo/opt/anaconda3/lib/python3.8/site-packages/matplotlib/backends/backend_agg.py:201: RuntimeWarning: Glyph 20303 missing from current font.\n",
      "  font.set_text(s, 0, flags=flags)\n",
      "/Users/zhaoluo/opt/anaconda3/lib/python3.8/site-packages/matplotlib/backends/backend_agg.py:201: RuntimeWarning: Glyph 23429 missing from current font.\n",
      "  font.set_text(s, 0, flags=flags)\n"
     ]
    },
    {
     "data": {
      "image/png": "[encoded data removed]",
      "text/plain": [
       "<Figure size 432x288 with 1 Axes>"
      ]
     },
     "metadata": {
      "needs_background": "light"
     },
     "output_type": "display_data"
    }
   ],
   "source": [
    "# 所有数据点在商务住宅&餐饮服务进行可视化\n",
    "import seaborn as sns\n",
    "import matplotlib.pyplot as plt\n",
    "plt.rc('font',family='FangSong') # 此语句确保绘图中的中文可以正常显示\n",
    "sns.scatterplot(x=\"餐饮服务\", y=\"商务住宅\", data=sub_loc_df)\n"
   ]
  },
  {
   "cell_type": "code",
   "execution_count": 27,
   "metadata": {},
   "outputs": [
    {
     "data": {
      "text/html": [
       "<div>\n",
       "<style scoped>\n",
       "    .dataframe tbody tr th:only-of-type {\n",
       "        vertical-align: middle;\n",
       "    }\n",
       "\n",
       "    .dataframe tbody tr th {\n",
       "        vertical-align: top;\n",
       "    }\n",
       "\n",
       "    .dataframe thead th {\n",
       "        text-align: right;\n",
       "    }\n",
       "</style>\n",
       "<table border=\"1\" class=\"dataframe\">\n",
       "  <thead>\n",
       "    <tr style=\"text-align: right;\">\n",
       "      <th></th>\n",
       "      <th>商务住宅</th>\n",
       "      <th>餐饮服务</th>\n",
       "    </tr>\n",
       "  </thead>\n",
       "  <tbody>\n",
       "    <tr>\n",
       "      <th>0</th>\n",
       "      <td>-1.248985</td>\n",
       "      <td>-1.799001</td>\n",
       "    </tr>\n",
       "    <tr>\n",
       "      <th>1</th>\n",
       "      <td>-1.696960</td>\n",
       "      <td>-1.711720</td>\n",
       "    </tr>\n",
       "    <tr>\n",
       "      <th>2</th>\n",
       "      <td>-1.427157</td>\n",
       "      <td>-1.624440</td>\n",
       "    </tr>\n",
       "    <tr>\n",
       "      <th>3</th>\n",
       "      <td>-1.213351</td>\n",
       "      <td>-1.539188</td>\n",
       "    </tr>\n",
       "    <tr>\n",
       "      <th>4</th>\n",
       "      <td>-1.131901</td>\n",
       "      <td>-1.425520</td>\n",
       "    </tr>\n",
       "  </tbody>\n",
       "</table>\n",
       "</div>"
      ],
      "text/plain": [
       "       商务住宅      餐饮服务\n",
       "0 -1.248985 -1.799001\n",
       "1 -1.696960 -1.711720\n",
       "2 -1.427157 -1.624440\n",
       "3 -1.213351 -1.539188\n",
       "4 -1.131901 -1.425520"
      ]
     },
     "execution_count": 27,
     "metadata": {},
     "output_type": "execute_result"
    }
   ],
   "source": [
    "# 标准化\n",
    "from sklearn.preprocessing import StandardScaler\n",
    "km_df = sub_loc_df\n",
    "km_df_standardize = StandardScaler().fit_transform(km_df)\n",
    "km_df_standardize = pd.DataFrame(data=km_df_standardize, columns=list(km_df.columns)) \n",
    "km_df_standardize.head()"
   ]
  },
  {
   "cell_type": "markdown",
   "metadata": {},
   "source": [
    "# 初次运行K-Means模型"
   ]
  },
  {
   "cell_type": "code",
   "execution_count": 28,
   "metadata": {},
   "outputs": [
    {
     "data": {
      "text/plain": [
       "<AxesSubplot:xlabel='餐饮服务', ylabel='商务住宅'>"
      ]
     },
     "execution_count": 28,
     "metadata": {},
     "output_type": "execute_result"
    },
    {
     "name": "stderr",
     "output_type": "stream",
     "text": [
      "/Users/zhaoluo/opt/anaconda3/lib/python3.8/site-packages/matplotlib/backends/backend_agg.py:238: RuntimeWarning: Glyph 39184 missing from current font.\n",
      "  font.set_text(s, 0.0, flags=flags)\n",
      "/Users/zhaoluo/opt/anaconda3/lib/python3.8/site-packages/matplotlib/backends/backend_agg.py:238: RuntimeWarning: Glyph 39278 missing from current font.\n",
      "  font.set_text(s, 0.0, flags=flags)\n",
      "/Users/zhaoluo/opt/anaconda3/lib/python3.8/site-packages/matplotlib/backends/backend_agg.py:238: RuntimeWarning: Glyph 26381 missing from current font.\n",
      "  font.set_text(s, 0.0, flags=flags)\n",
      "/Users/zhaoluo/opt/anaconda3/lib/python3.8/site-packages/matplotlib/backends/backend_agg.py:238: RuntimeWarning: Glyph 21153 missing from current font.\n",
      "  font.set_text(s, 0.0, flags=flags)\n",
      "/Users/zhaoluo/opt/anaconda3/lib/python3.8/site-packages/matplotlib/backends/backend_agg.py:238: RuntimeWarning: Glyph 21830 missing from current font.\n",
      "  font.set_text(s, 0.0, flags=flags)\n",
      "/Users/zhaoluo/opt/anaconda3/lib/python3.8/site-packages/matplotlib/backends/backend_agg.py:238: RuntimeWarning: Glyph 20303 missing from current font.\n",
      "  font.set_text(s, 0.0, flags=flags)\n",
      "/Users/zhaoluo/opt/anaconda3/lib/python3.8/site-packages/matplotlib/backends/backend_agg.py:238: RuntimeWarning: Glyph 23429 missing from current font.\n",
      "  font.set_text(s, 0.0, flags=flags)\n",
      "/Users/zhaoluo/opt/anaconda3/lib/python3.8/site-packages/matplotlib/backends/backend_agg.py:238: RuntimeWarning: Glyph 26032 missing from current font.\n",
      "  font.set_text(s, 0.0, flags=flags)\n",
      "/Users/zhaoluo/opt/anaconda3/lib/python3.8/site-packages/matplotlib/backends/backend_agg.py:238: RuntimeWarning: Glyph 26631 missing from current font.\n",
      "  font.set_text(s, 0.0, flags=flags)\n",
      "/Users/zhaoluo/opt/anaconda3/lib/python3.8/site-packages/matplotlib/backends/backend_agg.py:238: RuntimeWarning: Glyph 31614 missing from current font.\n",
      "  font.set_text(s, 0.0, flags=flags)\n",
      "/Users/zhaoluo/opt/anaconda3/lib/python3.8/site-packages/matplotlib/backends/backend_agg.py:201: RuntimeWarning: Glyph 39184 missing from current font.\n",
      "  font.set_text(s, 0, flags=flags)\n",
      "/Users/zhaoluo/opt/anaconda3/lib/python3.8/site-packages/matplotlib/backends/backend_agg.py:201: RuntimeWarning: Glyph 39278 missing from current font.\n",
      "  font.set_text(s, 0, flags=flags)\n",
      "/Users/zhaoluo/opt/anaconda3/lib/python3.8/site-packages/matplotlib/backends/backend_agg.py:201: RuntimeWarning: Glyph 26381 missing from current font.\n",
      "  font.set_text(s, 0, flags=flags)\n",
      "/Users/zhaoluo/opt/anaconda3/lib/python3.8/site-packages/matplotlib/backends/backend_agg.py:201: RuntimeWarning: Glyph 21153 missing from current font.\n",
      "  font.set_text(s, 0, flags=flags)\n",
      "/Users/zhaoluo/opt/anaconda3/lib/python3.8/site-packages/matplotlib/backends/backend_agg.py:201: RuntimeWarning: Glyph 21830 missing from current font.\n",
      "  font.set_text(s, 0, flags=flags)\n",
      "/Users/zhaoluo/opt/anaconda3/lib/python3.8/site-packages/matplotlib/backends/backend_agg.py:201: RuntimeWarning: Glyph 20303 missing from current font.\n",
      "  font.set_text(s, 0, flags=flags)\n",
      "/Users/zhaoluo/opt/anaconda3/lib/python3.8/site-packages/matplotlib/backends/backend_agg.py:201: RuntimeWarning: Glyph 23429 missing from current font.\n",
      "  font.set_text(s, 0, flags=flags)\n",
      "/Users/zhaoluo/opt/anaconda3/lib/python3.8/site-packages/matplotlib/backends/backend_agg.py:201: RuntimeWarning: Glyph 26032 missing from current font.\n",
      "  font.set_text(s, 0, flags=flags)\n",
      "/Users/zhaoluo/opt/anaconda3/lib/python3.8/site-packages/matplotlib/backends/backend_agg.py:201: RuntimeWarning: Glyph 26631 missing from current font.\n",
      "  font.set_text(s, 0, flags=flags)\n",
      "/Users/zhaoluo/opt/anaconda3/lib/python3.8/site-packages/matplotlib/backends/backend_agg.py:201: RuntimeWarning: Glyph 31614 missing from current font.\n",
      "  font.set_text(s, 0, flags=flags)\n"
     ]
    },
    {
     "data": {
      "image/png": "[encoded data removed]",
      "text/plain": [
       "<Figure size 432x288 with 1 Axes>"
      ]
     },
     "metadata": {
      "needs_background": "light"
     },
     "output_type": "display_data"
    }
   ],
   "source": [
    "# 导入kmeans包\n",
    "from sklearn.cluster import KMeans\n",
    "# 训练k_means模型\n",
    "km = KMeans(n_clusters=5, random_state=99)\n",
    "km.fit(km_df_standardize)\n",
    "# 将新标签组合到原来的数据框里面\n",
    "km_label = pd.DataFrame(km.labels_, columns=['新标签'])\n",
    "km_df = pd.concat([km_df, km_label],axis=1)\n",
    "# 将聚类结果可视化\n",
    "plt.rcParams['axes.unicode_minus'] = False\n",
    "sns.set_palette(\"dark\",5)\n",
    "sns.scatterplot(x=\"餐饮服务\", y=\"商务住宅\", hue=\"新标签\", data=km_df, palette=\"Set1\")\n"
   ]
  },
  {
   "cell_type": "code",
   "execution_count": 19,
   "metadata": {},
   "outputs": [
    {
     "data": {
      "text/html": [
       "<div>\n",
       "<style scoped>\n",
       "    .dataframe tbody tr th:only-of-type {\n",
       "        vertical-align: middle;\n",
       "    }\n",
       "\n",
       "    .dataframe tbody tr th {\n",
       "        vertical-align: top;\n",
       "    }\n",
       "\n",
       "    .dataframe thead th {\n",
       "        text-align: right;\n",
       "    }\n",
       "</style>\n",
       "<table border=\"1\" class=\"dataframe\">\n",
       "  <thead>\n",
       "    <tr style=\"text-align: right;\">\n",
       "      <th></th>\n",
       "      <th>商务住宅</th>\n",
       "      <th>餐饮服务</th>\n",
       "    </tr>\n",
       "  </thead>\n",
       "  <tbody>\n",
       "    <tr>\n",
       "      <th>0</th>\n",
       "      <td>-1.248985</td>\n",
       "      <td>-1.799001</td>\n",
       "    </tr>\n",
       "    <tr>\n",
       "      <th>1</th>\n",
       "      <td>-1.696960</td>\n",
       "      <td>-1.711720</td>\n",
       "    </tr>\n",
       "    <tr>\n",
       "      <th>2</th>\n",
       "      <td>-1.427157</td>\n",
       "      <td>-1.624440</td>\n",
       "    </tr>\n",
       "    <tr>\n",
       "      <th>3</th>\n",
       "      <td>-1.213351</td>\n",
       "      <td>-1.539188</td>\n",
       "    </tr>\n",
       "    <tr>\n",
       "      <th>4</th>\n",
       "      <td>-1.131901</td>\n",
       "      <td>-1.425520</td>\n",
       "    </tr>\n",
       "  </tbody>\n",
       "</table>\n",
       "</div>"
      ],
      "text/plain": [
       "       商务住宅      餐饮服务\n",
       "0 -1.248985 -1.799001\n",
       "1 -1.696960 -1.711720\n",
       "2 -1.427157 -1.624440\n",
       "3 -1.213351 -1.539188\n",
       "4 -1.131901 -1.425520"
      ]
     },
     "execution_count": 19,
     "metadata": {},
     "output_type": "execute_result"
    }
   ],
   "source": [
    "km_df_standardize.head()\n"
   ]
  },
  {
   "cell_type": "code",
   "execution_count": 20,
   "metadata": {},
   "outputs": [
    {
     "data": {
      "text/plain": [
       "<AxesSubplot:xlabel='餐饮服务', ylabel='商务住宅'>"
      ]
     },
     "execution_count": 20,
     "metadata": {},
     "output_type": "execute_result"
    },
    {
     "name": "stderr",
     "output_type": "stream",
     "text": [
      "/Users/zhaoluo/opt/anaconda3/lib/python3.8/site-packages/matplotlib/backends/backend_agg.py:238: RuntimeWarning: Glyph 39184 missing from current font.\n",
      "  font.set_text(s, 0.0, flags=flags)\n",
      "/Users/zhaoluo/opt/anaconda3/lib/python3.8/site-packages/matplotlib/backends/backend_agg.py:238: RuntimeWarning: Glyph 39278 missing from current font.\n",
      "  font.set_text(s, 0.0, flags=flags)\n",
      "/Users/zhaoluo/opt/anaconda3/lib/python3.8/site-packages/matplotlib/backends/backend_agg.py:238: RuntimeWarning: Glyph 26381 missing from current font.\n",
      "  font.set_text(s, 0.0, flags=flags)\n",
      "/Users/zhaoluo/opt/anaconda3/lib/python3.8/site-packages/matplotlib/backends/backend_agg.py:238: RuntimeWarning: Glyph 21153 missing from current font.\n",
      "  font.set_text(s, 0.0, flags=flags)\n",
      "/Users/zhaoluo/opt/anaconda3/lib/python3.8/site-packages/matplotlib/backends/backend_agg.py:238: RuntimeWarning: Glyph 21830 missing from current font.\n",
      "  font.set_text(s, 0.0, flags=flags)\n",
      "/Users/zhaoluo/opt/anaconda3/lib/python3.8/site-packages/matplotlib/backends/backend_agg.py:238: RuntimeWarning: Glyph 20303 missing from current font.\n",
      "  font.set_text(s, 0.0, flags=flags)\n",
      "/Users/zhaoluo/opt/anaconda3/lib/python3.8/site-packages/matplotlib/backends/backend_agg.py:238: RuntimeWarning: Glyph 23429 missing from current font.\n",
      "  font.set_text(s, 0.0, flags=flags)\n",
      "/Users/zhaoluo/opt/anaconda3/lib/python3.8/site-packages/matplotlib/backends/backend_agg.py:238: RuntimeWarning: Glyph 26032 missing from current font.\n",
      "  font.set_text(s, 0.0, flags=flags)\n",
      "/Users/zhaoluo/opt/anaconda3/lib/python3.8/site-packages/matplotlib/backends/backend_agg.py:238: RuntimeWarning: Glyph 26631 missing from current font.\n",
      "  font.set_text(s, 0.0, flags=flags)\n",
      "/Users/zhaoluo/opt/anaconda3/lib/python3.8/site-packages/matplotlib/backends/backend_agg.py:238: RuntimeWarning: Glyph 31614 missing from current font.\n",
      "  font.set_text(s, 0.0, flags=flags)\n",
      "/Users/zhaoluo/opt/anaconda3/lib/python3.8/site-packages/matplotlib/backends/backend_agg.py:201: RuntimeWarning: Glyph 39184 missing from current font.\n",
      "  font.set_text(s, 0, flags=flags)\n",
      "/Users/zhaoluo/opt/anaconda3/lib/python3.8/site-packages/matplotlib/backends/backend_agg.py:201: RuntimeWarning: Glyph 39278 missing from current font.\n",
      "  font.set_text(s, 0, flags=flags)\n",
      "/Users/zhaoluo/opt/anaconda3/lib/python3.8/site-packages/matplotlib/backends/backend_agg.py:201: RuntimeWarning: Glyph 26381 missing from current font.\n",
      "  font.set_text(s, 0, flags=flags)\n",
      "/Users/zhaoluo/opt/anaconda3/lib/python3.8/site-packages/matplotlib/backends/backend_agg.py:201: RuntimeWarning: Glyph 21153 missing from current font.\n",
      "  font.set_text(s, 0, flags=flags)\n",
      "/Users/zhaoluo/opt/anaconda3/lib/python3.8/site-packages/matplotlib/backends/backend_agg.py:201: RuntimeWarning: Glyph 21830 missing from current font.\n",
      "  font.set_text(s, 0, flags=flags)\n",
      "/Users/zhaoluo/opt/anaconda3/lib/python3.8/site-packages/matplotlib/backends/backend_agg.py:201: RuntimeWarning: Glyph 20303 missing from current font.\n",
      "  font.set_text(s, 0, flags=flags)\n",
      "/Users/zhaoluo/opt/anaconda3/lib/python3.8/site-packages/matplotlib/backends/backend_agg.py:201: RuntimeWarning: Glyph 23429 missing from current font.\n",
      "  font.set_text(s, 0, flags=flags)\n",
      "/Users/zhaoluo/opt/anaconda3/lib/python3.8/site-packages/matplotlib/backends/backend_agg.py:201: RuntimeWarning: Glyph 26032 missing from current font.\n",
      "  font.set_text(s, 0, flags=flags)\n",
      "/Users/zhaoluo/opt/anaconda3/lib/python3.8/site-packages/matplotlib/backends/backend_agg.py:201: RuntimeWarning: Glyph 26631 missing from current font.\n",
      "  font.set_text(s, 0, flags=flags)\n",
      "/Users/zhaoluo/opt/anaconda3/lib/python3.8/site-packages/matplotlib/backends/backend_agg.py:201: RuntimeWarning: Glyph 31614 missing from current font.\n",
      "  font.set_text(s, 0, flags=flags)\n"
     ]
    },
    {
     "data": {
      "image/png": "[encoded data removed]",
      "text/plain": [
       "<Figure size 432x288 with 1 Axes>"
      ]
     },
     "metadata": {
      "needs_background": "light"
     },
     "output_type": "display_data"
    }
   ],
   "source": [
    "# 将聚类结果可视化\n",
    "plt.rcParams['axes.unicode_minus'] = False\n",
    "sns.scatterplot(x=\"餐饮服务\", y=\"商务住宅\", hue=\"新标签\", data=km_df, palette=\"Set1\")\n"
   ]
  },
  {
   "cell_type": "markdown",
   "metadata": {},
   "source": [
    "# 标准化和不标准化的区别"
   ]
  },
  {
   "cell_type": "code",
   "execution_count": 172,
   "metadata": {},
   "outputs": [
    {
     "data": {
      "text/plain": [
       "<matplotlib.axes._subplots.AxesSubplot at 0x2138030a588>"
      ]
     },
     "execution_count": 172,
     "metadata": {},
     "output_type": "execute_result"
    },
    {
     "data": {
      "image/png": "[encoded data removed]",
      "text/plain": [
       "<Figure size 432x288 with 1 Axes>"
      ]
     },
     "metadata": {
      "needs_background": "light"
     },
     "output_type": "display_data"
    }
   ],
   "source": [
    "# 下面代码使用没有被标准化的数据训练K-Means模型\n",
    "# 导入kmeans包\n",
    "from sklearn.cluster import KMeans\n",
    "km_df = sub_loc_df\n",
    "# 训练k_means模型\n",
    "km = KMeans(n_clusters=5, random_state=99)\n",
    "km.fit(km_df)\n",
    "# 将新标签组合到原来的数据框里面\n",
    "km_label = pd.DataFrame(km.labels_, columns=['新标签'])\n",
    "km_df = pd.concat([km_df, km_label],axis=1)\n",
    "# 将聚类结果可视化\n",
    "plt.rcParams['axes.unicode_minus'] = False\n",
    "sns.scatterplot(x=\"餐饮服务\", y=\"商务住宅\", hue=\"新标签\", data=km_df, palette=\"Set1\")\n"
   ]
  },
  {
   "cell_type": "markdown",
   "metadata": {},
   "source": [
    "# 肘部法则选择聚类个数"
   ]
  },
  {
   "cell_type": "code",
   "execution_count": 21,
   "metadata": {
    "scrolled": true
   },
   "outputs": [
    {
     "data": {
      "image/png": "[encoded data removed]",
      "text/plain": [
       "<Figure size 432x288 with 1 Axes>"
      ]
     },
     "metadata": {
      "needs_background": "light"
     },
     "output_type": "display_data"
    }
   ],
   "source": [
    "from scipy.spatial.distance import cdist\n",
    "# 存放每次结果的误差平方和\n",
    "cost = []\n",
    "# 尝试不同的聚类个数\n",
    "K = range(1, 15)\n",
    "for k in K:\n",
    "    kmeanModel = KMeans(n_clusters=k, random_state=99)\n",
    "    kmeanModel.fit(km_df_standardize)\n",
    "    cost.append(kmeanModel.inertia_) # inertia_是所有点到其所属聚类质心的平方和\n",
    "# 肘部法则可视化\n",
    "plt.xlabel('k')\n",
    "plt.ylabel('cost')\n",
    "plt.plot(K, cost, 'o-')\n",
    "plt.show()\n"
   ]
  },
  {
   "cell_type": "markdown",
   "metadata": {},
   "source": [
    "# 再次运行K-Means模型"
   ]
  },
  {
   "cell_type": "code",
   "execution_count": 10,
   "metadata": {},
   "outputs": [
    {
     "data": {
      "text/html": [
       "<div>\n",
       "<style scoped>\n",
       "    .dataframe tbody tr th:only-of-type {\n",
       "        vertical-align: middle;\n",
       "    }\n",
       "\n",
       "    .dataframe tbody tr th {\n",
       "        vertical-align: top;\n",
       "    }\n",
       "\n",
       "    .dataframe thead th {\n",
       "        text-align: right;\n",
       "    }\n",
       "</style>\n",
       "<table border=\"1\" class=\"dataframe\">\n",
       "  <thead>\n",
       "    <tr style=\"text-align: right;\">\n",
       "      <th></th>\n",
       "      <th>商务住宅</th>\n",
       "      <th>餐饮服务</th>\n",
       "      <th>新标签</th>\n",
       "    </tr>\n",
       "  </thead>\n",
       "  <tbody>\n",
       "    <tr>\n",
       "      <th>0</th>\n",
       "      <td>88</td>\n",
       "      <td>0</td>\n",
       "      <td>1</td>\n",
       "    </tr>\n",
       "    <tr>\n",
       "      <th>1</th>\n",
       "      <td>0</td>\n",
       "      <td>43</td>\n",
       "      <td>1</td>\n",
       "    </tr>\n",
       "    <tr>\n",
       "      <th>2</th>\n",
       "      <td>53</td>\n",
       "      <td>86</td>\n",
       "      <td>1</td>\n",
       "    </tr>\n",
       "    <tr>\n",
       "      <th>3</th>\n",
       "      <td>95</td>\n",
       "      <td>128</td>\n",
       "      <td>1</td>\n",
       "    </tr>\n",
       "    <tr>\n",
       "      <th>4</th>\n",
       "      <td>111</td>\n",
       "      <td>184</td>\n",
       "      <td>1</td>\n",
       "    </tr>\n",
       "  </tbody>\n",
       "</table>\n",
       "</div>"
      ],
      "text/plain": [
       "   商务住宅  餐饮服务  新标签\n",
       "0    88     0    1\n",
       "1     0    43    1\n",
       "2    53    86    1\n",
       "3    95   128    1\n",
       "4   111   184    1"
      ]
     },
     "execution_count": 10,
     "metadata": {},
     "output_type": "execute_result"
    }
   ],
   "source": [
    "# 导入kmeans包\n",
    "from sklearn.cluster import KMeans\n",
    "km_df = sub_loc_df\n",
    "# 标准化\n",
    "from sklearn.preprocessing import StandardScaler\n",
    "km_df_standardize = StandardScaler().fit_transform(km_df)\n",
    "km_df_standardize = pd.DataFrame(data=km_df_standardize, columns=list(km_df.columns)) \n",
    "# 训练k_means模型\n",
    "km = KMeans(n_clusters=5, random_state=99)\n",
    "km.fit(km_df_standardize)\n",
    "# 将新标签组合到原来的数据框里面\n",
    "km_label = pd.DataFrame(km.labels_, columns=['新标签'])\n",
    "km_df = pd.concat([km_df, km_label],axis=1)\n",
    "km_df.head()\n"
   ]
  },
  {
   "cell_type": "code",
   "execution_count": 187,
   "metadata": {},
   "outputs": [
    {
     "data": {
      "text/plain": [
       "<matplotlib.axes._subplots.AxesSubplot at 0x2138050d208>"
      ]
     },
     "execution_count": 187,
     "metadata": {},
     "output_type": "execute_result"
    },
    {
     "data": {
      "image/png": "[encoded data removed]",
      "text/plain": [
       "<Figure size 432x288 with 1 Axes>"
      ]
     },
     "metadata": {
      "needs_background": "light"
     },
     "output_type": "display_data"
    }
   ],
   "source": [
    "# 将聚类结果可视化\n",
    "plt.rcParams['axes.unicode_minus'] = False\n",
    "sns.set_palette(\"dark\",5)\n",
    "sns.scatterplot(x=\"餐饮服务\", y=\"商务住宅\", hue=\"新标签\", data=km_df, palette=\"Set1\")\n"
   ]
  },
  {
   "cell_type": "markdown",
   "metadata": {},
   "source": [
    "# 聚类总结"
   ]
  },
  {
   "cell_type": "code",
   "execution_count": 29,
   "metadata": {},
   "outputs": [
    {
     "data": {
      "text/html": [
       "<div>\n",
       "<style scoped>\n",
       "    .dataframe tbody tr th:only-of-type {\n",
       "        vertical-align: middle;\n",
       "    }\n",
       "\n",
       "    .dataframe tbody tr th {\n",
       "        vertical-align: top;\n",
       "    }\n",
       "\n",
       "    .dataframe thead th {\n",
       "        text-align: right;\n",
       "    }\n",
       "</style>\n",
       "<table border=\"1\" class=\"dataframe\">\n",
       "  <thead>\n",
       "    <tr style=\"text-align: right;\">\n",
       "      <th></th>\n",
       "      <th>商务住宅</th>\n",
       "      <th>餐饮服务</th>\n",
       "      <th>新标签</th>\n",
       "      <th>交通设施服务</th>\n",
       "      <th>ID</th>\n",
       "    </tr>\n",
       "  </thead>\n",
       "  <tbody>\n",
       "    <tr>\n",
       "      <th>0</th>\n",
       "      <td>88</td>\n",
       "      <td>0</td>\n",
       "      <td>3</td>\n",
       "      <td>85</td>\n",
       "      <td>1</td>\n",
       "    </tr>\n",
       "    <tr>\n",
       "      <th>1</th>\n",
       "      <td>0</td>\n",
       "      <td>43</td>\n",
       "      <td>3</td>\n",
       "      <td>0</td>\n",
       "      <td>2</td>\n",
       "    </tr>\n",
       "    <tr>\n",
       "      <th>2</th>\n",
       "      <td>53</td>\n",
       "      <td>86</td>\n",
       "      <td>3</td>\n",
       "      <td>165</td>\n",
       "      <td>3</td>\n",
       "    </tr>\n",
       "    <tr>\n",
       "      <th>3</th>\n",
       "      <td>95</td>\n",
       "      <td>128</td>\n",
       "      <td>3</td>\n",
       "      <td>66</td>\n",
       "      <td>4</td>\n",
       "    </tr>\n",
       "    <tr>\n",
       "      <th>4</th>\n",
       "      <td>111</td>\n",
       "      <td>184</td>\n",
       "      <td>3</td>\n",
       "      <td>255</td>\n",
       "      <td>5</td>\n",
       "    </tr>\n",
       "  </tbody>\n",
       "</table>\n",
       "</div>"
      ],
      "text/plain": [
       "   商务住宅  餐饮服务  新标签  交通设施服务  ID\n",
       "0    88     0    3      85   1\n",
       "1     0    43    3       0   2\n",
       "2    53    86    3     165   3\n",
       "3    95   128    3      66   4\n",
       "4   111   184    3     255   5"
      ]
     },
     "execution_count": 29,
     "metadata": {},
     "output_type": "execute_result"
    }
   ],
   "source": [
    "# final_df作为最后分析用的数据框\n",
    "final_df = km_df\n",
    "# KMeans聚类结果增加一列\"交通设施服务\"\n",
    "final_df[\"交通设施服务\"] = loc_df[\"交通设施服务\"]\n",
    "final_df[\"ID\"] = loc_df[\"ID\"]\n",
    "final_df.head()\n"
   ]
  },
  {
   "cell_type": "code",
   "execution_count": 30,
   "metadata": {},
   "outputs": [
    {
     "data": {
      "text/html": [
       "<div>\n",
       "<style scoped>\n",
       "    .dataframe tbody tr th:only-of-type {\n",
       "        vertical-align: middle;\n",
       "    }\n",
       "\n",
       "    .dataframe tbody tr th {\n",
       "        vertical-align: top;\n",
       "    }\n",
       "\n",
       "    .dataframe thead th {\n",
       "        text-align: right;\n",
       "    }\n",
       "</style>\n",
       "<table border=\"1\" class=\"dataframe\">\n",
       "  <thead>\n",
       "    <tr style=\"text-align: right;\">\n",
       "      <th></th>\n",
       "      <th>商务住宅</th>\n",
       "      <th>餐饮服务</th>\n",
       "      <th>交通设施服务</th>\n",
       "      <th>数目</th>\n",
       "    </tr>\n",
       "    <tr>\n",
       "      <th>新标签</th>\n",
       "      <th></th>\n",
       "      <th></th>\n",
       "      <th></th>\n",
       "      <th></th>\n",
       "    </tr>\n",
       "  </thead>\n",
       "  <tbody>\n",
       "    <tr>\n",
       "      <th>0</th>\n",
       "      <td>50.0</td>\n",
       "      <td>762.0</td>\n",
       "      <td>276.0</td>\n",
       "      <td>4</td>\n",
       "    </tr>\n",
       "    <tr>\n",
       "      <th>1</th>\n",
       "      <td>515.0</td>\n",
       "      <td>1241.0</td>\n",
       "      <td>499.0</td>\n",
       "      <td>13</td>\n",
       "    </tr>\n",
       "    <tr>\n",
       "      <th>2</th>\n",
       "      <td>322.0</td>\n",
       "      <td>1389.0</td>\n",
       "      <td>383.0</td>\n",
       "      <td>8</td>\n",
       "    </tr>\n",
       "    <tr>\n",
       "      <th>3</th>\n",
       "      <td>78.0</td>\n",
       "      <td>140.0</td>\n",
       "      <td>216.0</td>\n",
       "      <td>8</td>\n",
       "    </tr>\n",
       "    <tr>\n",
       "      <th>4</th>\n",
       "      <td>462.0</td>\n",
       "      <td>576.0</td>\n",
       "      <td>265.0</td>\n",
       "      <td>7</td>\n",
       "    </tr>\n",
       "  </tbody>\n",
       "</table>\n",
       "</div>"
      ],
      "text/plain": [
       "      商务住宅    餐饮服务  交通设施服务  数目\n",
       "新标签                           \n",
       "0     50.0   762.0   276.0   4\n",
       "1    515.0  1241.0   499.0  13\n",
       "2    322.0  1389.0   383.0   8\n",
       "3     78.0   140.0   216.0   8\n",
       "4    462.0   576.0   265.0   7"
      ]
     },
     "execution_count": 30,
     "metadata": {},
     "output_type": "execute_result"
    }
   ],
   "source": [
    "# summary_df用于对聚类的分析，下一步求平均值\n",
    "summary_df = \\\n",
    "final_df[[\"商务住宅\", \"餐饮服务\", \"交通设施服务\", \"新标签\"]].groupby(\"新标签\") \\\n",
    "        .mean() \\\n",
    "        .round()\n",
    "#求每一个类别中的数目\n",
    "summary_df['数目'] = \\\n",
    "    final_df \\\n",
    "    .groupby(\"新标签\") \\\n",
    "    .size()\n",
    "# 展示\n",
    "summary_df\n"
   ]
  },
  {
   "cell_type": "code",
   "execution_count": 31,
   "metadata": {},
   "outputs": [
    {
     "data": {
      "text/html": [
       "<div>\n",
       "<style scoped>\n",
       "    .dataframe tbody tr th:only-of-type {\n",
       "        vertical-align: middle;\n",
       "    }\n",
       "\n",
       "    .dataframe tbody tr th {\n",
       "        vertical-align: top;\n",
       "    }\n",
       "\n",
       "    .dataframe thead th {\n",
       "        text-align: right;\n",
       "    }\n",
       "</style>\n",
       "<table border=\"1\" class=\"dataframe\">\n",
       "  <thead>\n",
       "    <tr style=\"text-align: right;\">\n",
       "      <th></th>\n",
       "      <th>商务住宅</th>\n",
       "      <th>餐饮服务</th>\n",
       "      <th>交通设施服务</th>\n",
       "      <th>ID</th>\n",
       "    </tr>\n",
       "    <tr>\n",
       "      <th>新标签</th>\n",
       "      <th></th>\n",
       "      <th></th>\n",
       "      <th></th>\n",
       "      <th></th>\n",
       "    </tr>\n",
       "  </thead>\n",
       "  <tbody>\n",
       "    <tr>\n",
       "      <th>0</th>\n",
       "      <td>0</td>\n",
       "      <td>1043</td>\n",
       "      <td>478</td>\n",
       "      <td>20</td>\n",
       "    </tr>\n",
       "    <tr>\n",
       "      <th>1</th>\n",
       "      <td>540</td>\n",
       "      <td>1090</td>\n",
       "      <td>815</td>\n",
       "      <td>21</td>\n",
       "    </tr>\n",
       "    <tr>\n",
       "      <th>2</th>\n",
       "      <td>286</td>\n",
       "      <td>1441</td>\n",
       "      <td>594</td>\n",
       "      <td>37</td>\n",
       "    </tr>\n",
       "    <tr>\n",
       "      <th>3</th>\n",
       "      <td>174</td>\n",
       "      <td>232</td>\n",
       "      <td>619</td>\n",
       "      <td>7</td>\n",
       "    </tr>\n",
       "    <tr>\n",
       "      <th>4</th>\n",
       "      <td>419</td>\n",
       "      <td>730</td>\n",
       "      <td>517</td>\n",
       "      <td>17</td>\n",
       "    </tr>\n",
       "  </tbody>\n",
       "</table>\n",
       "</div>"
      ],
      "text/plain": [
       "     商务住宅  餐饮服务  交通设施服务  ID\n",
       "新标签                        \n",
       "0       0  1043     478  20\n",
       "1     540  1090     815  21\n",
       "2     286  1441     594  37\n",
       "3     174   232     619   7\n",
       "4     419   730     517  17"
      ]
     },
     "execution_count": 31,
     "metadata": {},
     "output_type": "execute_result"
    }
   ],
   "source": [
    "# 每个聚类的典型样本 - 基于最大“交通设施服务”\n",
    "exemplar = \\\n",
    "    final_df \\\n",
    "    .sort_values(['交通设施服务'], ascending = False) \\\n",
    "    .groupby('新标签') \\\n",
    "    .first() \\\n",
    "# 呈现\n",
    "exemplar\n"
   ]
  },
  {
   "cell_type": "code",
   "execution_count": null,
   "metadata": {},
   "outputs": [],
   "source": []
  }
 ],
 "metadata": {
  "kernelspec": {
   "display_name": "Python 3",
   "language": "python",
   "name": "python3"
  },
  "language_info": {
   "codemirror_mode": {
    "name": "ipython",
    "version": 3
   },
   "file_extension": ".py",
   "mimetype": "text/x-python",
   "name": "python",
   "nbconvert_exporter": "python",
   "pygments_lexer": "ipython3",
   "version": "3.8.5"
  }
 },
 "nbformat": 4,
 "nbformat_minor": 2
}
